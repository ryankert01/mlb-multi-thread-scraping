{
 "cells": [
  {
   "cell_type": "code",
   "execution_count": 1,
   "metadata": {},
   "outputs": [
    {
     "name": "stdout",
     "output_type": "stream",
     "text": [
      "Failed to scrape data for 2007\n",
      "Failed to scrape data for 2007\n",
      "Failed to scrape data for 2007\n",
      "Failed to scrape data for 2007\n",
      "Failed to scrape data for 2007\n"
     ]
    }
   ],
   "source": [
    "from selenium import webdriver\n",
    "from selenium.webdriver.chrome.options import Options\n",
    "from selenium.common.exceptions import NoSuchElementException\n",
    "from selenium.webdriver.common.by import By\n",
    "from selenium.webdriver.support.ui import WebDriverWait\n",
    "from selenium.webdriver.support import expected_conditions as EC\n",
    "\n",
    "import pandas as pd\n",
    "from bs4 import BeautifulSoup\n",
    "import datetime\n",
    "import time\n",
    "import os\n",
    "import csv\n",
    "import traceback\n",
    "\n",
    "def aggregate_data(header1, data1, header2, data2, shift):\n",
    "    shift = 4 if shift < 2 else 3\n",
    "    return header1 + header2[shift:], [data1[i] + data2[i][shift:] for i in range(len(data1))]\n",
    "\n",
    "def get_batch_urls(year: str):\n",
    "    base = \"https://www.mlb.com/stats\"\n",
    "    player_hitting = f\"{base}/{year}\"\n",
    "    player_pitching = f\"{base}/pitching/{year}?sortState=asc\"\n",
    "    team_hitting = f\"{base}/team/{year}\"\n",
    "    team_pitching = f\"{base}/team/pitching/{year}?sortState=asc\"\n",
    "    return player_hitting, player_pitching, team_hitting, team_pitching\n",
    "\n",
    "def scrape_table_data(driver, idx):\n",
    "    data = []\n",
    "    while True:\n",
    "        # Wait for the table to load\n",
    "        WebDriverWait(driver, 10).until(EC.presence_of_element_located((By.CSS_SELECTOR, \"table.bui-table\")))\n",
    "        \n",
    "        soup = BeautifulSoup(driver.page_source, 'lxml')\n",
    "        \n",
    "        table = soup.find('table', class_='bui-table')\n",
    "        headers = table.thead.find_all('abbr')\n",
    "        header = [\"index\"]\n",
    "        for i in range(len(headers)):\n",
    "            if i % 2 == 0:\n",
    "                header.append(headers[i].text)\n",
    "            if i == 0 and idx < 2:\n",
    "                header.append(\"position\")\n",
    "\n",
    "\n",
    "\n",
    "        rows = table.tbody.find_all('tr')\n",
    "        \n",
    "        for row in rows:\n",
    "            th = row.find('th')\n",
    "            index = th.select('div[class^=index-]')[0].text\n",
    "            if (len(th.div.select('[class^=full-]'))) == 2:\n",
    "                name = th.div.select('[class^=full-]')[0].text + \" \" + th.div.select('[class^=full-]')[1].text\n",
    "            else:\n",
    "                name = th.div.select('[class^=full-]')[0].text\n",
    "            if idx < 2:\n",
    "                position = th.div.select_one('div[class^=position-]').text\n",
    "                row_data = [index, name, position]\n",
    "            else:\n",
    "                row_data = [index, name]\n",
    "            cells = row.find_all('td')\n",
    "            row_data = row_data + [cell.text.strip() for cell in cells]\n",
    "            data.append(row_data)\n",
    "        \n",
    "        try:\n",
    "            # Find the Next button and click it\n",
    "            next_button = driver.find_element(By.CSS_SELECTOR, \"button[aria-label='next page button']\")\n",
    "            if next_button.is_enabled():\n",
    "                next_button.click()\n",
    "                time.sleep(3)\n",
    "            else:\n",
    "                break\n",
    "        except NoSuchElementException:\n",
    "            break\n",
    "\n",
    "    return header, data\n",
    "\n",
    "\n",
    "def parse_year_data(year):\n",
    "    options = Options()\n",
    "    # options.add_argument(\"--headless\")  # Enable headless mode for background processing\n",
    "    driver = webdriver.Chrome(options=options)\n",
    "\n",
    "    driver.get(\"https://www.mlb.com/stats/2021\")\n",
    "    current_time = datetime.datetime.now().isoformat() + 'Z' \n",
    "\n",
    "    # Create a cookie\n",
    "    cookie = {\n",
    "        'name': 'OptanonAlertBoxClosed',\n",
    "        'value': current_time,\n",
    "        'domain': '.mlb.com',  # Set this to the domain for which you want the cookie\n",
    "        'path': '/',\n",
    "    }\n",
    "    driver.add_cookie(cookie)\n",
    "\n",
    "    year = str(year)\n",
    "    urls = get_batch_urls(year)\n",
    "    terms = [\"player_hitting\", \"player_pitching\", \"team_hitting\", \"team_pitching\"]\n",
    "    folder = f\"./mlb/{year}\"\n",
    "    if not os.path.exists(folder):\n",
    "        os.makedirs(folder)\n",
    "\n",
    "    for i in range(4):\n",
    "        driver.get(urls[i])\n",
    "        header, data = scrape_table_data(driver,i)\n",
    "        try:\n",
    "            # Find the Next button and click it\n",
    "            driver.get(urls[i])\n",
    "            WebDriverWait(driver, 10).until(EC.presence_of_element_located((By.XPATH, \"//*[@id='stats-app-root']/section/section/div[1]/div[2]/div/div[1]/div/div[2]/button\")))\n",
    "            next_button = driver.find_element(By.XPATH, \"//*[@id='stats-app-root']/section/section/div[1]/div[2]/div/div[1]/div/div[2]/button\")\n",
    "            if next_button.is_enabled():\n",
    "                next_button.click()\n",
    "                time.sleep(3)\n",
    "                \n",
    "            else:\n",
    "                break\n",
    "        except:\n",
    "            traceback.print_exc()\n",
    "            break\n",
    "        header1, data1 = scrape_table_data(driver,i)\n",
    "        print(len(header), len(header1))\n",
    "        print(len(data), len(data1))\n",
    "        print(header)\n",
    "        print(header1)\n",
    "        print(data)\n",
    "        print(data1)\n",
    "        header, data = aggregate_data(header, data, header1, data1,i)\n",
    "\n",
    "\n",
    "        filename = f\"{folder}/{terms[i]}.csv\"\n",
    "\n",
    "        with open(filename, mode='w', newline='') as file:\n",
    "            writer = csv.writer(file)\n",
    "            writer.writerow(header)\n",
    "            writer.writerows(data)\n",
    "\n",
    "    driver.quit()  # Don't forget to close the driver\n",
    "\n",
    "def main():\n",
    "    year = 2007\n",
    "    while year <= 2023:\n",
    "        try:\n",
    "            parse_year_data(year)  \n",
    "        except:\n",
    "            print(f\"Failed to scrape data for {year}\")\n",
    "            continue\n",
    "        year += 1\n",
    "\n",
    "if __name__ == \"__main__\":\n",
    "    main()\n"
   ]
  },
  {
   "cell_type": "markdown",
   "metadata": {},
   "source": []
  },
  {
   "cell_type": "code",
   "execution_count": null,
   "metadata": {},
   "outputs": [],
   "source": []
  },
  {
   "cell_type": "markdown",
   "metadata": {},
   "source": [
    "## Visualize"
   ]
  },
  {
   "cell_type": "code",
   "execution_count": null,
   "metadata": {},
   "outputs": [
    {
     "data": {
      "text/html": [
       "<div><style>\n",
       ".dataframe > thead > tr,\n",
       ".dataframe > tbody > tr {\n",
       "  text-align: right;\n",
       "  white-space: pre-wrap;\n",
       "}\n",
       "</style>\n",
       "<small>shape: (166, 20)</small><table border=\"1\" class=\"dataframe\"><thead><tr><th>index</th><th>PLAYER</th><th>position</th><th>TEAM</th><th>G</th><th>AB</th><th>R</th><th>H</th><th>2B</th><th>3B</th><th>HR</th><th>RBI</th><th>BB</th><th>SO</th><th>SB</th><th>CS</th><th>AVG</th><th>OBP</th><th>SLG</th><th>OPS</th></tr><tr><td>i64</td><td>str</td><td>str</td><td>str</td><td>i64</td><td>i64</td><td>i64</td><td>i64</td><td>i64</td><td>i64</td><td>i64</td><td>i64</td><td>i64</td><td>i64</td><td>i64</td><td>i64</td><td>f64</td><td>f64</td><td>f64</td><td>f64</td></tr></thead><tbody><tr><td>1</td><td>&quot;Barry Bonds&quot;</td><td>&quot;LF&quot;</td><td>&quot;SF&quot;</td><td>130</td><td>390</td><td>111</td><td>133</td><td>22</td><td>1</td><td>45</td><td>90</td><td>148</td><td>58</td><td>7</td><td>0</td><td>0.341</td><td>0.529</td><td>0.749</td><td>1.278</td></tr><tr><td>2</td><td>&quot;Albert Pujols&quot;</td><td>&quot;LF&quot;</td><td>&quot;STL&quot;</td><td>157</td><td>591</td><td>137</td><td>212</td><td>51</td><td>1</td><td>43</td><td>124</td><td>79</td><td>65</td><td>5</td><td>1</td><td>0.359</td><td>0.439</td><td>0.667</td><td>1.106</td></tr><tr><td>3</td><td>&quot;Todd Helton&quot;</td><td>&quot;1B&quot;</td><td>&quot;COL&quot;</td><td>160</td><td>583</td><td>135</td><td>209</td><td>49</td><td>5</td><td>33</td><td>117</td><td>111</td><td>72</td><td>0</td><td>4</td><td>0.358</td><td>0.458</td><td>0.63</td><td>1.088</td></tr><tr><td>4</td><td>&quot;Gary Sheffield…</td><td>&quot;RF&quot;</td><td>&quot;ATL&quot;</td><td>155</td><td>576</td><td>126</td><td>190</td><td>37</td><td>2</td><td>39</td><td>132</td><td>86</td><td>55</td><td>18</td><td>4</td><td>0.33</td><td>0.419</td><td>0.604</td><td>1.023</td></tr><tr><td>5</td><td>&quot;Carlos Delgado…</td><td>&quot;1B&quot;</td><td>&quot;TOR&quot;</td><td>161</td><td>570</td><td>117</td><td>172</td><td>38</td><td>1</td><td>42</td><td>145</td><td>109</td><td>137</td><td>0</td><td>0</td><td>0.302</td><td>0.426</td><td>0.593</td><td>1.019</td></tr><tr><td>&hellip;</td><td>&hellip;</td><td>&hellip;</td><td>&hellip;</td><td>&hellip;</td><td>&hellip;</td><td>&hellip;</td><td>&hellip;</td><td>&hellip;</td><td>&hellip;</td><td>&hellip;</td><td>&hellip;</td><td>&hellip;</td><td>&hellip;</td><td>&hellip;</td><td>&hellip;</td><td>&hellip;</td><td>&hellip;</td><td>&hellip;</td><td>&hellip;</td></tr><tr><td>161</td><td>&quot;José Hernández…</td><td>&quot;3B&quot;</td><td>&quot;PIT&quot;</td><td>150</td><td>519</td><td>58</td><td>117</td><td>18</td><td>3</td><td>13</td><td>57</td><td>46</td><td>177</td><td>2</td><td>1</td><td>0.225</td><td>0.287</td><td>0.347</td><td>0.634</td></tr><tr><td>163</td><td>&quot;Alex Cora&quot;</td><td>&quot;2B&quot;</td><td>&quot;LA&quot;</td><td>148</td><td>477</td><td>39</td><td>119</td><td>24</td><td>3</td><td>4</td><td>34</td><td>16</td><td>59</td><td>4</td><td>2</td><td>0.249</td><td>0.287</td><td>0.338</td><td>0.625</td></tr><tr><td>164</td><td>&quot;Cesar Izturis&quot;</td><td>&quot;SS&quot;</td><td>&quot;LA&quot;</td><td>158</td><td>558</td><td>47</td><td>140</td><td>21</td><td>6</td><td>1</td><td>40</td><td>25</td><td>70</td><td>10</td><td>5</td><td>0.251</td><td>0.282</td><td>0.315</td><td>0.597</td></tr><tr><td>165</td><td>&quot;Brad Ausmus&quot;</td><td>&quot;C&quot;</td><td>&quot;HOU&quot;</td><td>143</td><td>450</td><td>43</td><td>103</td><td>12</td><td>2</td><td>4</td><td>47</td><td>46</td><td>66</td><td>5</td><td>3</td><td>0.229</td><td>0.303</td><td>0.291</td><td>0.594</td></tr><tr><td>166</td><td>&quot;Ramon Santiago…</td><td>&quot;SS&quot;</td><td>&quot;DET&quot;</td><td>141</td><td>444</td><td>41</td><td>100</td><td>18</td><td>1</td><td>2</td><td>29</td><td>33</td><td>66</td><td>10</td><td>4</td><td>0.225</td><td>0.292</td><td>0.284</td><td>0.576</td></tr></tbody></table></div>"
      ],
      "text/plain": [
       "shape: (166, 20)\n",
       "┌───────┬────────────────┬──────────┬──────┬───┬───────┬───────┬───────┬───────┐\n",
       "│ index ┆ PLAYER         ┆ position ┆ TEAM ┆ … ┆ AVG   ┆ OBP   ┆ SLG   ┆ OPS   │\n",
       "│ ---   ┆ ---            ┆ ---      ┆ ---  ┆   ┆ ---   ┆ ---   ┆ ---   ┆ ---   │\n",
       "│ i64   ┆ str            ┆ str      ┆ str  ┆   ┆ f64   ┆ f64   ┆ f64   ┆ f64   │\n",
       "╞═══════╪════════════════╪══════════╪══════╪═══╪═══════╪═══════╪═══════╪═══════╡\n",
       "│ 1     ┆ Barry Bonds    ┆ LF       ┆ SF   ┆ … ┆ 0.341 ┆ 0.529 ┆ 0.749 ┆ 1.278 │\n",
       "│ 2     ┆ Albert Pujols  ┆ LF       ┆ STL  ┆ … ┆ 0.359 ┆ 0.439 ┆ 0.667 ┆ 1.106 │\n",
       "│ 3     ┆ Todd Helton    ┆ 1B       ┆ COL  ┆ … ┆ 0.358 ┆ 0.458 ┆ 0.63  ┆ 1.088 │\n",
       "│ 4     ┆ Gary Sheffield ┆ RF       ┆ ATL  ┆ … ┆ 0.33  ┆ 0.419 ┆ 0.604 ┆ 1.023 │\n",
       "│ 5     ┆ Carlos Delgado ┆ 1B       ┆ TOR  ┆ … ┆ 0.302 ┆ 0.426 ┆ 0.593 ┆ 1.019 │\n",
       "│ …     ┆ …              ┆ …        ┆ …    ┆ … ┆ …     ┆ …     ┆ …     ┆ …     │\n",
       "│ 161   ┆ José Hernández ┆ 3B       ┆ PIT  ┆ … ┆ 0.225 ┆ 0.287 ┆ 0.347 ┆ 0.634 │\n",
       "│ 163   ┆ Alex Cora      ┆ 2B       ┆ LA   ┆ … ┆ 0.249 ┆ 0.287 ┆ 0.338 ┆ 0.625 │\n",
       "│ 164   ┆ Cesar Izturis  ┆ SS       ┆ LA   ┆ … ┆ 0.251 ┆ 0.282 ┆ 0.315 ┆ 0.597 │\n",
       "│ 165   ┆ Brad Ausmus    ┆ C        ┆ HOU  ┆ … ┆ 0.229 ┆ 0.303 ┆ 0.291 ┆ 0.594 │\n",
       "│ 166   ┆ Ramon Santiago ┆ SS       ┆ DET  ┆ … ┆ 0.225 ┆ 0.292 ┆ 0.284 ┆ 0.576 │\n",
       "└───────┴────────────────┴──────────┴──────┴───┴───────┴───────┴───────┴───────┘"
      ]
     },
     "execution_count": 69,
     "metadata": {},
     "output_type": "execute_result"
    }
   ],
   "source": [
    "import polars as pl\n",
    "\n",
    "df = pl.read_csv(\"player_hitting_2003.csv\")\n",
    "df"
   ]
  },
  {
   "cell_type": "code",
   "execution_count": null,
   "metadata": {},
   "outputs": [
    {
     "data": {
      "text/html": [
       "<div><style>\n",
       ".dataframe > thead > tr,\n",
       ".dataframe > tbody > tr {\n",
       "  text-align: right;\n",
       "  white-space: pre-wrap;\n",
       "}\n",
       "</style>\n",
       "<small>shape: (92, 23)</small><table border=\"1\" class=\"dataframe\"><thead><tr><th>index</th><th>PLAYER</th><th>position</th><th>TEAM</th><th>W</th><th>L</th><th>ERA</th><th>G</th><th>GS</th><th>CG</th><th>SHO</th><th>SV</th><th>SVO</th><th>IP</th><th>H</th><th>R</th><th>ER</th><th>HR</th><th>HB</th><th>BB</th><th>SO</th><th>WHIP</th><th>AVG</th></tr><tr><td>i64</td><td>str</td><td>str</td><td>str</td><td>i64</td><td>i64</td><td>f64</td><td>i64</td><td>i64</td><td>i64</td><td>i64</td><td>i64</td><td>i64</td><td>f64</td><td>i64</td><td>i64</td><td>i64</td><td>i64</td><td>i64</td><td>i64</td><td>i64</td><td>f64</td><td>f64</td></tr></thead><tbody><tr><td>1</td><td>&quot;Pedro Martinez…</td><td>&quot;P&quot;</td><td>&quot;BOS&quot;</td><td>14</td><td>4</td><td>2.22</td><td>29</td><td>29</td><td>3</td><td>0</td><td>0</td><td>0</td><td>186.2</td><td>147</td><td>52</td><td>46</td><td>7</td><td>9</td><td>47</td><td>206</td><td>1.04</td><td>0.215</td></tr><tr><td>2</td><td>&quot;Jason Schmidt&quot;</td><td>&quot;P&quot;</td><td>&quot;SF&quot;</td><td>17</td><td>5</td><td>2.34</td><td>29</td><td>29</td><td>5</td><td>3</td><td>0</td><td>0</td><td>207.2</td><td>152</td><td>56</td><td>54</td><td>14</td><td>5</td><td>46</td><td>208</td><td>0.95</td><td>0.2</td></tr><tr><td>3</td><td>&quot;Kevin Brown&quot;</td><td>&quot;P&quot;</td><td>&quot;LA&quot;</td><td>14</td><td>9</td><td>2.39</td><td>32</td><td>32</td><td>0</td><td>0</td><td>0</td><td>0</td><td>211.0</td><td>184</td><td>67</td><td>56</td><td>11</td><td>5</td><td>56</td><td>185</td><td>1.14</td><td>0.236</td></tr><tr><td>4</td><td>&quot;Mark Prior&quot;</td><td>&quot;P&quot;</td><td>&quot;CHC&quot;</td><td>18</td><td>6</td><td>2.43</td><td>30</td><td>30</td><td>3</td><td>1</td><td>0</td><td>0</td><td>211.1</td><td>183</td><td>67</td><td>57</td><td>15</td><td>9</td><td>50</td><td>245</td><td>1.1</td><td>0.231</td></tr><tr><td>5</td><td>&quot;Tim Hudson&quot;</td><td>&quot;P&quot;</td><td>&quot;OAK&quot;</td><td>16</td><td>7</td><td>2.7</td><td>34</td><td>34</td><td>3</td><td>2</td><td>0</td><td>0</td><td>240.0</td><td>197</td><td>84</td><td>72</td><td>15</td><td>10</td><td>61</td><td>162</td><td>1.08</td><td>0.223</td></tr><tr><td>&hellip;</td><td>&hellip;</td><td>&hellip;</td><td>&hellip;</td><td>&hellip;</td><td>&hellip;</td><td>&hellip;</td><td>&hellip;</td><td>&hellip;</td><td>&hellip;</td><td>&hellip;</td><td>&hellip;</td><td>&hellip;</td><td>&hellip;</td><td>&hellip;</td><td>&hellip;</td><td>&hellip;</td><td>&hellip;</td><td>&hellip;</td><td>&hellip;</td><td>&hellip;</td><td>&hellip;</td><td>&hellip;</td></tr><tr><td>88</td><td>&quot;Shane Reynolds…</td><td>&quot;P&quot;</td><td>&quot;ATL&quot;</td><td>11</td><td>9</td><td>5.43</td><td>30</td><td>29</td><td>0</td><td>0</td><td>0</td><td>0</td><td>167.1</td><td>191</td><td>104</td><td>101</td><td>20</td><td>8</td><td>59</td><td>94</td><td>1.49</td><td>0.293</td></tr><tr><td>89</td><td>&quot;Wayne Franklin…</td><td>&quot;P&quot;</td><td>&quot;MIL&quot;</td><td>10</td><td>13</td><td>5.5</td><td>36</td><td>34</td><td>1</td><td>1</td><td>0</td><td>0</td><td>194.2</td><td>201</td><td>129</td><td>119</td><td>36</td><td>10</td><td>94</td><td>116</td><td>1.52</td><td>0.268</td></tr><tr><td>90</td><td>&quot;Jeremy Bonderm…</td><td>&quot;P&quot;</td><td>&quot;DET&quot;</td><td>6</td><td>19</td><td>5.56</td><td>33</td><td>28</td><td>0</td><td>0</td><td>0</td><td>0</td><td>162.0</td><td>193</td><td>118</td><td>100</td><td>23</td><td>4</td><td>58</td><td>108</td><td>1.55</td><td>0.294</td></tr><tr><td>91</td><td>&quot;Mike Maroth&quot;</td><td>&quot;P&quot;</td><td>&quot;DET&quot;</td><td>9</td><td>21</td><td>5.73</td><td>33</td><td>33</td><td>1</td><td>0</td><td>0</td><td>0</td><td>193.1</td><td>231</td><td>131</td><td>123</td><td>34</td><td>8</td><td>50</td><td>87</td><td>1.45</td><td>0.299</td></tr><tr><td>92</td><td>&quot;Cory Lidle&quot;</td><td>&quot;P&quot;</td><td>&quot;TOR&quot;</td><td>12</td><td>15</td><td>5.75</td><td>31</td><td>31</td><td>2</td><td>0</td><td>0</td><td>0</td><td>192.2</td><td>216</td><td>133</td><td>123</td><td>24</td><td>5</td><td>60</td><td>112</td><td>1.43</td><td>0.282</td></tr></tbody></table></div>"
      ],
      "text/plain": [
       "shape: (92, 23)\n",
       "┌───────┬──────────────────┬──────────┬──────┬───┬─────┬─────┬──────┬───────┐\n",
       "│ index ┆ PLAYER           ┆ position ┆ TEAM ┆ … ┆ BB  ┆ SO  ┆ WHIP ┆ AVG   │\n",
       "│ ---   ┆ ---              ┆ ---      ┆ ---  ┆   ┆ --- ┆ --- ┆ ---  ┆ ---   │\n",
       "│ i64   ┆ str              ┆ str      ┆ str  ┆   ┆ i64 ┆ i64 ┆ f64  ┆ f64   │\n",
       "╞═══════╪══════════════════╪══════════╪══════╪═══╪═════╪═════╪══════╪═══════╡\n",
       "│ 1     ┆ Pedro Martinez   ┆ P        ┆ BOS  ┆ … ┆ 47  ┆ 206 ┆ 1.04 ┆ 0.215 │\n",
       "│ 2     ┆ Jason Schmidt    ┆ P        ┆ SF   ┆ … ┆ 46  ┆ 208 ┆ 0.95 ┆ 0.2   │\n",
       "│ 3     ┆ Kevin Brown      ┆ P        ┆ LA   ┆ … ┆ 56  ┆ 185 ┆ 1.14 ┆ 0.236 │\n",
       "│ 4     ┆ Mark Prior       ┆ P        ┆ CHC  ┆ … ┆ 50  ┆ 245 ┆ 1.1  ┆ 0.231 │\n",
       "│ 5     ┆ Tim Hudson       ┆ P        ┆ OAK  ┆ … ┆ 61  ┆ 162 ┆ 1.08 ┆ 0.223 │\n",
       "│ …     ┆ …                ┆ …        ┆ …    ┆ … ┆ …   ┆ …   ┆ …    ┆ …     │\n",
       "│ 88    ┆ Shane Reynolds   ┆ P        ┆ ATL  ┆ … ┆ 59  ┆ 94  ┆ 1.49 ┆ 0.293 │\n",
       "│ 89    ┆ Wayne Franklin   ┆ P        ┆ MIL  ┆ … ┆ 94  ┆ 116 ┆ 1.52 ┆ 0.268 │\n",
       "│ 90    ┆ Jeremy Bonderman ┆ P        ┆ DET  ┆ … ┆ 58  ┆ 108 ┆ 1.55 ┆ 0.294 │\n",
       "│ 91    ┆ Mike Maroth      ┆ P        ┆ DET  ┆ … ┆ 50  ┆ 87  ┆ 1.45 ┆ 0.299 │\n",
       "│ 92    ┆ Cory Lidle       ┆ P        ┆ TOR  ┆ … ┆ 60  ┆ 112 ┆ 1.43 ┆ 0.282 │\n",
       "└───────┴──────────────────┴──────────┴──────┴───┴─────┴─────┴──────┴───────┘"
      ]
     },
     "execution_count": 71,
     "metadata": {},
     "output_type": "execute_result"
    }
   ],
   "source": [
    "df = pl.read_csv(\"player_pitching_2003.csv\")\n",
    "df"
   ]
  },
  {
   "cell_type": "code",
   "execution_count": null,
   "metadata": {},
   "outputs": [
    {
     "data": {
      "text/html": [
       "<div><style>\n",
       ".dataframe > thead > tr,\n",
       ".dataframe > tbody > tr {\n",
       "  text-align: right;\n",
       "  white-space: pre-wrap;\n",
       "}\n",
       "</style>\n",
       "<small>shape: (30, 22)</small><table border=\"1\" class=\"dataframe\"><thead><tr><th>index</th><th>TEAM</th><th>LEAGUE</th><th>W</th><th>L</th><th>ERA</th><th>G</th><th>GS</th><th>CG</th><th>SHO</th><th>SV</th><th>SVO</th><th>IP</th><th>H</th><th>R</th><th>ER</th><th>HR</th><th>HB</th><th>BB</th><th>SO</th><th>WHIP</th><th>AVG</th></tr><tr><td>i64</td><td>str</td><td>str</td><td>i64</td><td>i64</td><td>f64</td><td>i64</td><td>i64</td><td>i64</td><td>i64</td><td>i64</td><td>i64</td><td>f64</td><td>i64</td><td>i64</td><td>i64</td><td>i64</td><td>i64</td><td>i64</td><td>i64</td><td>f64</td><td>f64</td></tr></thead><tbody><tr><td>1</td><td>&quot;Los Angeles Do…</td><td>&quot;NL&quot;</td><td>85</td><td>77</td><td>3.16</td><td>162</td><td>162</td><td>3</td><td>17</td><td>58</td><td>66</td><td>1457.2</td><td>1254</td><td>556</td><td>511</td><td>127</td><td>40</td><td>526</td><td>1289</td><td>1.22</td><td>0.234</td></tr><tr><td>2</td><td>&quot;Oakland Athlet…</td><td>&quot;AL&quot;</td><td>96</td><td>66</td><td>3.63</td><td>162</td><td>162</td><td>16</td><td>14</td><td>48</td><td>60</td><td>1441.2</td><td>1336</td><td>643</td><td>582</td><td>140</td><td>54</td><td>499</td><td>1018</td><td>1.27</td><td>0.246</td></tr><tr><td>3</td><td>&quot;San Francisco …</td><td>&quot;NL&quot;</td><td>100</td><td>61</td><td>3.73</td><td>161</td><td>161</td><td>7</td><td>10</td><td>43</td><td>60</td><td>1437.1</td><td>1349</td><td>638</td><td>595</td><td>136</td><td>43</td><td>546</td><td>1006</td><td>1.32</td><td>0.25</td></tr><tr><td>4</td><td>&quot;Seattle Marine…</td><td>&quot;AL&quot;</td><td>93</td><td>69</td><td>3.76</td><td>162</td><td>162</td><td>8</td><td>15</td><td>38</td><td>52</td><td>1441.0</td><td>1340</td><td>637</td><td>602</td><td>173</td><td>54</td><td>466</td><td>1001</td><td>1.25</td><td>0.247</td></tr><tr><td>5</td><td>&quot;Chicago Cubs&quot;</td><td>&quot;NL&quot;</td><td>88</td><td>74</td><td>3.83</td><td>162</td><td>162</td><td>13</td><td>14</td><td>36</td><td>51</td><td>1456.1</td><td>1304</td><td>683</td><td>619</td><td>143</td><td>71</td><td>617</td><td>1404</td><td>1.32</td><td>0.241</td></tr><tr><td>&hellip;</td><td>&hellip;</td><td>&hellip;</td><td>&hellip;</td><td>&hellip;</td><td>&hellip;</td><td>&hellip;</td><td>&hellip;</td><td>&hellip;</td><td>&hellip;</td><td>&hellip;</td><td>&hellip;</td><td>&hellip;</td><td>&hellip;</td><td>&hellip;</td><td>&hellip;</td><td>&hellip;</td><td>&hellip;</td><td>&hellip;</td><td>&hellip;</td><td>&hellip;</td><td>&hellip;</td></tr><tr><td>26</td><td>&quot;Kansas City Ro…</td><td>&quot;AL&quot;</td><td>83</td><td>79</td><td>5.05</td><td>162</td><td>162</td><td>7</td><td>10</td><td>36</td><td>64</td><td>1438.2</td><td>1569</td><td>867</td><td>808</td><td>190</td><td>66</td><td>566</td><td>865</td><td>1.48</td><td>0.279</td></tr><tr><td>27</td><td>&quot;Cincinnati Red…</td><td>&quot;NL&quot;</td><td>69</td><td>93</td><td>5.09</td><td>162</td><td>162</td><td>4</td><td>5</td><td>38</td><td>64</td><td>1446.1</td><td>1578</td><td>886</td><td>818</td><td>209</td><td>48</td><td>590</td><td>932</td><td>1.5</td><td>0.278</td></tr><tr><td>28</td><td>&quot;Colorado Rocki…</td><td>&quot;NL&quot;</td><td>74</td><td>88</td><td>5.2</td><td>162</td><td>162</td><td>3</td><td>4</td><td>34</td><td>54</td><td>1420.0</td><td>1629</td><td>892</td><td>821</td><td>200</td><td>84</td><td>552</td><td>866</td><td>1.54</td><td>0.29</td></tr><tr><td>29</td><td>&quot;Detroit Tigers…</td><td>&quot;AL&quot;</td><td>43</td><td>119</td><td>5.3</td><td>162</td><td>162</td><td>3</td><td>5</td><td>27</td><td>46</td><td>1438.2</td><td>1616</td><td>928</td><td>847</td><td>195</td><td>56</td><td>557</td><td>764</td><td>1.51</td><td>0.286</td></tr><tr><td>30</td><td>&quot;Texas Rangers&quot;</td><td>&quot;AL&quot;</td><td>71</td><td>91</td><td>5.67</td><td>162</td><td>162</td><td>4</td><td>3</td><td>43</td><td>63</td><td>1433.1</td><td>1625</td><td>969</td><td>903</td><td>208</td><td>63</td><td>603</td><td>1009</td><td>1.55</td><td>0.288</td></tr></tbody></table></div>"
      ],
      "text/plain": [
       "shape: (30, 22)\n",
       "┌───────┬──────────────────────┬────────┬─────┬───┬─────┬──────┬──────┬───────┐\n",
       "│ index ┆ TEAM                 ┆ LEAGUE ┆ W   ┆ … ┆ BB  ┆ SO   ┆ WHIP ┆ AVG   │\n",
       "│ ---   ┆ ---                  ┆ ---    ┆ --- ┆   ┆ --- ┆ ---  ┆ ---  ┆ ---   │\n",
       "│ i64   ┆ str                  ┆ str    ┆ i64 ┆   ┆ i64 ┆ i64  ┆ f64  ┆ f64   │\n",
       "╞═══════╪══════════════════════╪════════╪═════╪═══╪═════╪══════╪══════╪═══════╡\n",
       "│ 1     ┆ Los Angeles Dodgers  ┆ NL     ┆ 85  ┆ … ┆ 526 ┆ 1289 ┆ 1.22 ┆ 0.234 │\n",
       "│ 2     ┆ Oakland Athletics    ┆ AL     ┆ 96  ┆ … ┆ 499 ┆ 1018 ┆ 1.27 ┆ 0.246 │\n",
       "│ 3     ┆ San Francisco Giants ┆ NL     ┆ 100 ┆ … ┆ 546 ┆ 1006 ┆ 1.32 ┆ 0.25  │\n",
       "│ 4     ┆ Seattle Mariners     ┆ AL     ┆ 93  ┆ … ┆ 466 ┆ 1001 ┆ 1.25 ┆ 0.247 │\n",
       "│ 5     ┆ Chicago Cubs         ┆ NL     ┆ 88  ┆ … ┆ 617 ┆ 1404 ┆ 1.32 ┆ 0.241 │\n",
       "│ …     ┆ …                    ┆ …      ┆ …   ┆ … ┆ …   ┆ …    ┆ …    ┆ …     │\n",
       "│ 26    ┆ Kansas City Royals   ┆ AL     ┆ 83  ┆ … ┆ 566 ┆ 865  ┆ 1.48 ┆ 0.279 │\n",
       "│ 27    ┆ Cincinnati Reds      ┆ NL     ┆ 69  ┆ … ┆ 590 ┆ 932  ┆ 1.5  ┆ 0.278 │\n",
       "│ 28    ┆ Colorado Rockies     ┆ NL     ┆ 74  ┆ … ┆ 552 ┆ 866  ┆ 1.54 ┆ 0.29  │\n",
       "│ 29    ┆ Detroit Tigers       ┆ AL     ┆ 43  ┆ … ┆ 557 ┆ 764  ┆ 1.51 ┆ 0.286 │\n",
       "│ 30    ┆ Texas Rangers        ┆ AL     ┆ 71  ┆ … ┆ 603 ┆ 1009 ┆ 1.55 ┆ 0.288 │\n",
       "└───────┴──────────────────────┴────────┴─────┴───┴─────┴──────┴──────┴───────┘"
      ]
     },
     "execution_count": 73,
     "metadata": {},
     "output_type": "execute_result"
    }
   ],
   "source": [
    "df = pl.read_csv(\"team_pitching_2003.csv\")\n",
    "df"
   ]
  },
  {
   "cell_type": "code",
   "execution_count": null,
   "metadata": {},
   "outputs": [
    {
     "data": {
      "text/html": [
       "<div><style>\n",
       ".dataframe > thead > tr,\n",
       ".dataframe > tbody > tr {\n",
       "  text-align: right;\n",
       "  white-space: pre-wrap;\n",
       "}\n",
       "</style>\n",
       "<small>shape: (30, 19)</small><table border=\"1\" class=\"dataframe\"><thead><tr><th>index</th><th>TEAM</th><th>LEAGUE</th><th>G</th><th>AB</th><th>R</th><th>H</th><th>2B</th><th>3B</th><th>HR</th><th>RBI</th><th>BB</th><th>SO</th><th>SB</th><th>CS</th><th>AVG</th><th>OBP</th><th>SLG</th><th>OPS</th></tr><tr><td>i64</td><td>str</td><td>str</td><td>i64</td><td>i64</td><td>i64</td><td>i64</td><td>i64</td><td>i64</td><td>i64</td><td>i64</td><td>i64</td><td>i64</td><td>i64</td><td>i64</td><td>f64</td><td>f64</td><td>f64</td><td>f64</td></tr></thead><tbody><tr><td>1</td><td>&quot;Texas Rangers&quot;</td><td>&quot;AL&quot;</td><td>162</td><td>5664</td><td>826</td><td>1506</td><td>274</td><td>36</td><td>239</td><td>799</td><td>488</td><td>1052</td><td>65</td><td>25</td><td>0.266</td><td>0.33</td><td>0.454</td><td>0.784</td></tr><tr><td>2</td><td>&quot;Boston Red Sox…</td><td>&quot;AL&quot;</td><td>162</td><td>5769</td><td>961</td><td>1667</td><td>371</td><td>40</td><td>238</td><td>932</td><td>620</td><td>943</td><td>88</td><td>35</td><td>0.289</td><td>0.36</td><td>0.491</td><td>0.851</td></tr><tr><td>3</td><td>&quot;Atlanta Braves…</td><td>&quot;NL&quot;</td><td>162</td><td>5670</td><td>907</td><td>1608</td><td>321</td><td>31</td><td>235</td><td>872</td><td>545</td><td>933</td><td>68</td><td>22</td><td>0.284</td><td>0.349</td><td>0.475</td><td>0.824</td></tr><tr><td>4</td><td>&quot;New York Yanke…</td><td>&quot;AL&quot;</td><td>163</td><td>5605</td><td>877</td><td>1518</td><td>304</td><td>14</td><td>230</td><td>845</td><td>684</td><td>1042</td><td>98</td><td>33</td><td>0.271</td><td>0.356</td><td>0.453</td><td>0.809</td></tr><tr><td>5</td><td>&quot;Chicago White …</td><td>&quot;AL&quot;</td><td>162</td><td>5487</td><td>791</td><td>1445</td><td>303</td><td>19</td><td>220</td><td>766</td><td>519</td><td>916</td><td>77</td><td>29</td><td>0.263</td><td>0.331</td><td>0.446</td><td>0.777</td></tr><tr><td>&hellip;</td><td>&hellip;</td><td>&hellip;</td><td>&hellip;</td><td>&hellip;</td><td>&hellip;</td><td>&hellip;</td><td>&hellip;</td><td>&hellip;</td><td>&hellip;</td><td>&hellip;</td><td>&hellip;</td><td>&hellip;</td><td>&hellip;</td><td>&hellip;</td><td>&hellip;</td><td>&hellip;</td><td>&hellip;</td><td>&hellip;</td></tr><tr><td>26</td><td>&quot;Seattle Marine…</td><td>&quot;AL&quot;</td><td>162</td><td>5561</td><td>795</td><td>1509</td><td>290</td><td>33</td><td>139</td><td>759</td><td>586</td><td>989</td><td>108</td><td>37</td><td>0.271</td><td>0.344</td><td>0.41</td><td>0.754</td></tr><tr><td>27</td><td>&quot;Tampa Bay Devi…</td><td>&quot;AL&quot;</td><td>162</td><td>5654</td><td>715</td><td>1501</td><td>298</td><td>38</td><td>137</td><td>678</td><td>420</td><td>1030</td><td>142</td><td>42</td><td>0.265</td><td>0.32</td><td>0.404</td><td>0.724</td></tr><tr><td>28</td><td>&quot;San Diego Padr…</td><td>&quot;NL&quot;</td><td>162</td><td>5531</td><td>678</td><td>1442</td><td>257</td><td>32</td><td>128</td><td>641</td><td>565</td><td>1073</td><td>76</td><td>39</td><td>0.261</td><td>0.333</td><td>0.388</td><td>0.721</td></tr><tr><td>29</td><td>&quot;Los Angeles Do…</td><td>&quot;NL&quot;</td><td>162</td><td>5458</td><td>574</td><td>1328</td><td>260</td><td>25</td><td>124</td><td>544</td><td>407</td><td>985</td><td>80</td><td>36</td><td>0.243</td><td>0.303</td><td>0.368</td><td>0.671</td></tr><tr><td>29</td><td>&quot;New York Mets&quot;</td><td>&quot;NL&quot;</td><td>161</td><td>5341</td><td>642</td><td>1317</td><td>262</td><td>24</td><td>124</td><td>607</td><td>489</td><td>1035</td><td>70</td><td>31</td><td>0.247</td><td>0.314</td><td>0.374</td><td>0.688</td></tr></tbody></table></div>"
      ],
      "text/plain": [
       "shape: (30, 19)\n",
       "┌───────┬──────────────────────┬────────┬─────┬───┬───────┬───────┬───────┬───────┐\n",
       "│ index ┆ TEAM                 ┆ LEAGUE ┆ G   ┆ … ┆ AVG   ┆ OBP   ┆ SLG   ┆ OPS   │\n",
       "│ ---   ┆ ---                  ┆ ---    ┆ --- ┆   ┆ ---   ┆ ---   ┆ ---   ┆ ---   │\n",
       "│ i64   ┆ str                  ┆ str    ┆ i64 ┆   ┆ f64   ┆ f64   ┆ f64   ┆ f64   │\n",
       "╞═══════╪══════════════════════╪════════╪═════╪═══╪═══════╪═══════╪═══════╪═══════╡\n",
       "│ 1     ┆ Texas Rangers        ┆ AL     ┆ 162 ┆ … ┆ 0.266 ┆ 0.33  ┆ 0.454 ┆ 0.784 │\n",
       "│ 2     ┆ Boston Red Sox       ┆ AL     ┆ 162 ┆ … ┆ 0.289 ┆ 0.36  ┆ 0.491 ┆ 0.851 │\n",
       "│ 3     ┆ Atlanta Braves       ┆ NL     ┆ 162 ┆ … ┆ 0.284 ┆ 0.349 ┆ 0.475 ┆ 0.824 │\n",
       "│ 4     ┆ New York Yankees     ┆ AL     ┆ 163 ┆ … ┆ 0.271 ┆ 0.356 ┆ 0.453 ┆ 0.809 │\n",
       "│ 5     ┆ Chicago White Sox    ┆ AL     ┆ 162 ┆ … ┆ 0.263 ┆ 0.331 ┆ 0.446 ┆ 0.777 │\n",
       "│ …     ┆ …                    ┆ …      ┆ …   ┆ … ┆ …     ┆ …     ┆ …     ┆ …     │\n",
       "│ 26    ┆ Seattle Mariners     ┆ AL     ┆ 162 ┆ … ┆ 0.271 ┆ 0.344 ┆ 0.41  ┆ 0.754 │\n",
       "│ 27    ┆ Tampa Bay Devil Rays ┆ AL     ┆ 162 ┆ … ┆ 0.265 ┆ 0.32  ┆ 0.404 ┆ 0.724 │\n",
       "│ 28    ┆ San Diego Padres     ┆ NL     ┆ 162 ┆ … ┆ 0.261 ┆ 0.333 ┆ 0.388 ┆ 0.721 │\n",
       "│ 29    ┆ Los Angeles Dodgers  ┆ NL     ┆ 162 ┆ … ┆ 0.243 ┆ 0.303 ┆ 0.368 ┆ 0.671 │\n",
       "│ 29    ┆ New York Mets        ┆ NL     ┆ 161 ┆ … ┆ 0.247 ┆ 0.314 ┆ 0.374 ┆ 0.688 │\n",
       "└───────┴──────────────────────┴────────┴─────┴───┴───────┴───────┴───────┴───────┘"
      ]
     },
     "execution_count": 72,
     "metadata": {},
     "output_type": "execute_result"
    }
   ],
   "source": [
    "df = pl.read_csv(\"team_hitting_2003.csv\")\n",
    "df"
   ]
  },
  {
   "cell_type": "code",
   "execution_count": null,
   "metadata": {},
   "outputs": [],
   "source": []
  }
 ],
 "metadata": {
  "kernelspec": {
   "display_name": "ml",
   "language": "python",
   "name": "python3"
  },
  "language_info": {
   "codemirror_mode": {
    "name": "ipython",
    "version": 3
   },
   "file_extension": ".py",
   "mimetype": "text/x-python",
   "name": "python",
   "nbconvert_exporter": "python",
   "pygments_lexer": "ipython3",
   "version": "3.11.9"
  }
 },
 "nbformat": 4,
 "nbformat_minor": 2
}
